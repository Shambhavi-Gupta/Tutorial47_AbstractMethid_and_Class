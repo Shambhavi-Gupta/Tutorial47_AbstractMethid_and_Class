{
  "nbformat": 4,
  "nbformat_minor": 0,
  "metadata": {
    "colab": {
      "name": "Tutorial47_Abstractmethod_And_class.ipynb",
      "provenance": [],
      "authorship_tag": "ABX9TyPt0ARxlcIqZDAJQu1Cbtut",
      "include_colab_link": true
    },
    "kernelspec": {
      "name": "python3",
      "display_name": "Python 3"
    }
  },
  "cells": [
    {
      "cell_type": "markdown",
      "metadata": {
        "id": "view-in-github",
        "colab_type": "text"
      },
      "source": [
        "<a href=\"https://colab.research.google.com/github/Shambhavi-Gupta/Tutorial47_AbstractMethid_and_Class/blob/main/Tutorial47_Abstractmethod_And_class.ipynb\" target=\"_parent\"><img src=\"https://colab.research.google.com/assets/colab-badge.svg\" alt=\"Open In Colab\"/></a>"
      ]
    },
    {
      "cell_type": "code",
      "metadata": {
        "id": "G9EoMQtTvRfC"
      },
      "source": [
        "from abc import ABC, abstractmethod\r\n",
        "class Mother(ABC):\r\n",
        "    @abstractmethod\r\n",
        "    def one(self):\r\n",
        "        pass\r\n",
        "    def two(self):\r\n",
        "        print('concrete method')\r\n",
        "\r\n",
        "class Daughter(Mother):\r\n",
        "    def one(self):\r\n",
        "        print(\"Abstract method\")\r\n",
        "\r\n",
        "b = Daughter()\r\n",
        "b.one()\r\n",
        "b.two()"
      ],
      "execution_count": null,
      "outputs": []
    }
  ]
}